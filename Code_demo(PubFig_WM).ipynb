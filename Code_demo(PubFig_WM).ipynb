{
 "cells": [
  {
   "cell_type": "code",
   "execution_count": 1,
   "metadata": {},
   "outputs": [
    {
     "name": "stderr",
     "output_type": "stream",
     "text": [
      "Using TensorFlow backend.\n"
     ]
    }
   ],
   "source": [
    "import numpy as np\n",
    "from keras.models import Model\n",
    "from keras.layers import Convolution2D, Conv2D, MaxPooling2D, Input, Dense, Activation, Flatten,Dropout\n",
    "from keras.models import Sequential\n",
    "from keras.optimizers import Adam,Adadelta\n",
    "import tensorflow as tf\n",
    "config = tf.ConfigProto(gpu_options=tf.GPUOptions(allow_growth=True))\n",
    "sess = tf.Session(config=config)\n",
    "\n",
    "import matplotlib.pyplot as plt\n",
    "import imageio\n",
    "import copy\n",
    "import cv2\n",
    "import albumentations\n",
    "from skimage.transform import rescale, resize\n",
    "import tqdm"
   ]
  },
  {
   "cell_type": "code",
   "execution_count": 2,
   "metadata": {},
   "outputs": [],
   "source": [
    "ori = np.load('./data/pubfig/wm/origdata.npy')\n",
    "data = np.load('./data/pubfig/wm/bkdata.npy')\n",
    "true_lab = np.load('./data/pubfig/wm/truelab.npy')\n",
    "tar_lab = np.load('./data/pubfig/wm/tarlab.npy')"
   ]
  },
  {
   "cell_type": "code",
   "execution_count": 3,
   "metadata": {},
   "outputs": [],
   "source": [
    "def fastSAT(img):\n",
    "    aug = albumentations.ShiftScaleRotate(scale_limit=0.16,shift_limit=0.16,rotate_limit=4,p=1,border_mode=0) #$$$$$$200+ \n",
    "    augmented = aug(image=(img*255).astype(np.uint8))\n",
    "    auged = augmented['image']/255\n",
    "    return auged\n",
    "\n",
    "def defend_OD(img):\n",
    "    aug = albumentations.OpticalDistortion(p=1) #$$$$$$200+ \n",
    "    augmented = aug(image=(img*255).astype(np.uint8))\n",
    "    auged = augmented['image']/255\n",
    "    return auged\n",
    "\n",
    "def defend_GAMMA(img):\n",
    "    aug = albumentations.RandomGamma(p=1,gamma_limit=(60,60)) #$$$$$$200+ \n",
    "    augmented = aug(image=(img*255).astype(np.uint8))\n",
    "    auged = augmented['image']/255\n",
    "    return auged\n",
    "\n",
    "def defend_MED(img):\n",
    "    aug = albumentations.MedianBlur(p=1,blur_limit=(5,5)) #$$$$$$200+ \n",
    "    augmented = aug(image=(img*255).astype(np.uint8))\n",
    "    auged = augmented['image']/255\n",
    "    return auged\n",
    "\n",
    "def defend_DOWN(img):\n",
    "    aug = albumentations.Downscale(p=1,scale_min=0.25,scale_max=0.25)#$$$$$$200+ \n",
    "    augmented = aug(image=(img*255).astype(np.uint8))\n",
    "    auged = augmented['image']/255\n",
    "    return auged\n",
    "\n",
    "def defend_MPN(img):\n",
    "    aug = albumentations.MultiplicativeNoise(p=1,multiplier=1.53)#$$$$$$200+ \n",
    "    augmented = aug(image=(img*255).astype(np.uint8))\n",
    "    auged = augmented['image']/255\n",
    "    return auged\n",
    "\n",
    "def defend_GAMMA2(img):\n",
    "    aug = albumentations.RandomGamma(p=1,gamma_limit=(260,260)) #$$$$$$200+ \n",
    "    augmented = aug(image=(img*255).astype(np.uint8))\n",
    "    auged = augmented['image']/255\n",
    "    return auged\n",
    "\n",
    "def defend_RAND(img,scalimit=1.3):\n",
    "    maxvalue = np.int(img.shape[0] * scalimit)\n",
    "    rnd = np.random.randint(img.shape[0],maxvalue,(1,))[0]\n",
    "    rescaled = resize(img,(rnd,rnd))\n",
    "    h_rem = maxvalue - rnd\n",
    "    w_rem = maxvalue - rnd\n",
    "    pad_left = np.random.randint(0,w_rem,(1,))[0]\n",
    "    pad_right = w_rem - pad_left\n",
    "    pad_top = np.random.randint(0,h_rem,(1,))[0]\n",
    "    pad_bottom = h_rem - pad_top\n",
    "    padded = np.pad(rescaled,((pad_top,pad_bottom),(pad_left,pad_right),(0,0)),'constant',constant_values = 0)\n",
    "    padded = resize(padded,(img.shape[0],img.shape[0]))\n",
    "    return padded"
   ]
  },
  {
   "cell_type": "code",
   "execution_count": 4,
   "metadata": {},
   "outputs": [],
   "source": [
    "def defending(imgset):\n",
    "    outset = np.zeros_like(imgset)\n",
    "    for i,img in enumerate(imgset):\n",
    "        defimg = np.copy(img)\n",
    "\n",
    "        defimg = defend_OD(defimg)\n",
    "        defimg = defend_GAMMA(defimg)\n",
    "\n",
    "        defimg = defend_MED(defimg)\n",
    "        \n",
    "        defimg = defend_MPN(defimg)\n",
    "        defimg = defend_GAMMA2(defimg)\n",
    "\n",
    "        defimg = defend_DOWN(defimg)        \n",
    "        defimg = defend_MED(defimg)\n",
    "        \n",
    "        defimg = cv2.resize(defimg,(180,180))\n",
    "        defimg = defend_MED(defimg)\n",
    "        defimg = cv2.resize(defimg,(224,224))\n",
    "        \n",
    "        defimg = defend_RAND(defimg,scalimit=1.1)\n",
    "        defimg = fastSAT(defimg)\n",
    "        \n",
    "        outset[i] = np.copy(defimg)\n",
    "    return outset"
   ]
  },
  {
   "cell_type": "code",
   "execution_count": null,
   "metadata": {},
   "outputs": [],
   "source": []
  },
  {
   "cell_type": "code",
   "execution_count": 5,
   "metadata": {},
   "outputs": [],
   "source": [
    "from keras_vggface.vggface import VGGFace\n",
    "def vggface_model():\n",
    "    hidden_dim = 4096\n",
    "    NUM_CLASSES = 83\n",
    "    vgg_model = VGGFace(model='vgg16',weights=None,include_top=False, input_shape=(224, 224, 3))\n",
    "    last_layer = vgg_model.get_layer('pool5').output\n",
    "    x = Flatten(name='flatten')(last_layer)\n",
    "    x = Dense(hidden_dim, activation='relu', name='fc6')(x)\n",
    "    x = Dense(hidden_dim, activation='relu', name='fc7')(x)\n",
    "    out = Dense(NUM_CLASSES, activation='softmax', name='fc8')(x)\n",
    "    pubfig_vgg_model = Model(vgg_model.input, out)\n",
    "    # compiling\n",
    "    lr_optimizer=Adadelta(lr = 0.03)\n",
    "    pubfig_vgg_model.compile(loss='categorical_crossentropy', optimizer=lr_optimizer, metrics=['accuracy'])\n",
    "    \n",
    "    return pubfig_vgg_model"
   ]
  },
  {
   "cell_type": "code",
   "execution_count": 6,
   "metadata": {},
   "outputs": [
    {
     "name": "stdout",
     "output_type": "stream",
     "text": [
      "WARNING:tensorflow:From /home/eason/anaconda3/envs/untitled/lib/python3.7/site-packages/keras/backend/tensorflow_backend.py:74: The name tf.get_default_graph is deprecated. Please use tf.compat.v1.get_default_graph instead.\n",
      "\n",
      "WARNING:tensorflow:From /home/eason/anaconda3/envs/untitled/lib/python3.7/site-packages/keras/backend/tensorflow_backend.py:517: The name tf.placeholder is deprecated. Please use tf.compat.v1.placeholder instead.\n",
      "\n",
      "WARNING:tensorflow:From /home/eason/anaconda3/envs/untitled/lib/python3.7/site-packages/keras/backend/tensorflow_backend.py:4138: The name tf.random_uniform is deprecated. Please use tf.random.uniform instead.\n",
      "\n",
      "WARNING:tensorflow:From /home/eason/anaconda3/envs/untitled/lib/python3.7/site-packages/keras/backend/tensorflow_backend.py:3976: The name tf.nn.max_pool is deprecated. Please use tf.nn.max_pool2d instead.\n",
      "\n",
      "WARNING:tensorflow:From /home/eason/anaconda3/envs/untitled/lib/python3.7/site-packages/keras/optimizers.py:790: The name tf.train.Optimizer is deprecated. Please use tf.compat.v1.train.Optimizer instead.\n",
      "\n",
      "WARNING:tensorflow:From /home/eason/anaconda3/envs/untitled/lib/python3.7/site-packages/keras/backend/tensorflow_backend.py:3295: The name tf.log is deprecated. Please use tf.math.log instead.\n",
      "\n",
      "WARNING:tensorflow:From /home/eason/anaconda3/envs/untitled/lib/python3.7/site-packages/keras/backend/tensorflow_backend.py:174: The name tf.get_default_session is deprecated. Please use tf.compat.v1.get_default_session instead.\n",
      "\n",
      "WARNING:tensorflow:From /home/eason/anaconda3/envs/untitled/lib/python3.7/site-packages/keras/backend/tensorflow_backend.py:190: The name tf.global_variables is deprecated. Please use tf.compat.v1.global_variables instead.\n",
      "\n",
      "WARNING:tensorflow:From /home/eason/anaconda3/envs/untitled/lib/python3.7/site-packages/keras/backend/tensorflow_backend.py:199: The name tf.is_variable_initialized is deprecated. Please use tf.compat.v1.is_variable_initialized instead.\n",
      "\n",
      "WARNING:tensorflow:From /home/eason/anaconda3/envs/untitled/lib/python3.7/site-packages/keras/backend/tensorflow_backend.py:206: The name tf.variables_initializer is deprecated. Please use tf.compat.v1.variables_initializer instead.\n",
      "\n"
     ]
    }
   ],
   "source": [
    "model = vggface_model()\n",
    "model.load_weights('./model/backdoor_face_wm.h5')"
   ]
  },
  {
   "cell_type": "code",
   "execution_count": 7,
   "metadata": {},
   "outputs": [
    {
     "name": "stdout",
     "output_type": "stream",
     "text": [
      "200/200 [==============================] - 3s 13ms/step\n",
      "Baseline ACC over cleansamples 0.9599999934434891\n"
     ]
    }
   ],
   "source": [
    "#Baseline\n",
    "lr_optimizer=Adadelta(lr = 0.03)\n",
    "model.compile(loss='categorical_crossentropy', optimizer=lr_optimizer, metrics=['accuracy'])\n",
    "_,acc = model.evaluate(ori*255,np.squeeze(np.eye(83)[true_lab]),batch_size=10)\n",
    "print('Baseline ACC over cleansamples',acc)"
   ]
  },
  {
   "cell_type": "code",
   "execution_count": 8,
   "metadata": {},
   "outputs": [
    {
     "name": "stdout",
     "output_type": "stream",
     "text": [
      "200/200 [==============================] - 1s 4ms/step\n",
      "Baseline ASR over patched data 1.0\n"
     ]
    }
   ],
   "source": [
    "#Baseline\n",
    "_,acc = model.evaluate(data*255,np.squeeze(np.eye(83)[tar_lab]),batch_size=10)\n",
    "print('Baseline ASR over patched data',acc)"
   ]
  },
  {
   "cell_type": "code",
   "execution_count": 9,
   "metadata": {},
   "outputs": [],
   "source": [
    "#Conduct Intensive Preprocess\n",
    "defdata = defending(data)\n",
    "defori = defending(ori)"
   ]
  },
  {
   "cell_type": "code",
   "execution_count": 10,
   "metadata": {},
   "outputs": [
    {
     "name": "stdout",
     "output_type": "stream",
     "text": [
      "200/200 [==============================] - 1s 4ms/step\n",
      "ACC over cleansamples after the intensive defense 0.3700000047683716\n"
     ]
    }
   ],
   "source": [
    "#Inference (I)\n",
    "_,acc = model.evaluate(defori*255,np.squeeze(np.eye(83)[true_lab]),batch_size=10)\n",
    "print('ACC over cleansamples after the intensive defense',acc)"
   ]
  },
  {
   "cell_type": "code",
   "execution_count": 11,
   "metadata": {},
   "outputs": [
    {
     "name": "stdout",
     "output_type": "stream",
     "text": [
      "200/200 [==============================] - 1s 4ms/step\n",
      "ASR over patched data after the intensive defense 0.36500000655651094\n"
     ]
    }
   ],
   "source": [
    "#Inference (I)\n",
    "_,acc = model.evaluate(defdata*255,np.squeeze(np.eye(83)[tar_lab]),batch_size=10)\n",
    "print('ASR over patched data after the intensive defense',acc)"
   ]
  },
  {
   "cell_type": "code",
   "execution_count": 12,
   "metadata": {},
   "outputs": [
    {
     "name": "stdout",
     "output_type": "stream",
     "text": [
      "test_img\n",
      "test_labels\n",
      "train_img\n",
      "train_labels\n",
      "train_mean\n",
      "val_img\n",
      "val_labels\n"
     ]
    }
   ],
   "source": [
    "import h5py \n",
    "f = h5py.File('./data/clean_pubfig_face_dataset.h5','r')   #打开h5文件\n",
    "for name in f.keys():\n",
    "    print(name)"
   ]
  },
  {
   "cell_type": "code",
   "execution_count": 54,
   "metadata": {},
   "outputs": [],
   "source": [
    "#count from 0 to 9 to acquire 10000 clean samples\n",
    "count = 9\n",
    "new_ori = (np.asarray(f['train_img'][count*1000:(count+1)*1000]))/255\n",
    "new_true_lab = np.asarray(f['train_labels'][count*1000:(count+1)*1000])\n",
    "hot_lab = np.eye(83)[new_true_lab]"
   ]
  },
  {
   "cell_type": "code",
   "execution_count": 55,
   "metadata": {},
   "outputs": [
    {
     "name": "stdout",
     "output_type": "stream",
     "text": [
      "Epoch 1/1\n",
      "1000/1000 [==============================] - 17s 17ms/step - loss: 0.7182 - acc: 0.8020\n",
      "Epoch 1/1\n",
      "1000/1000 [==============================] - 17s 17ms/step - loss: 0.3728 - acc: 0.8930\n",
      "Epoch 1/1\n",
      "1000/1000 [==============================] - 17s 17ms/step - loss: 0.1852 - acc: 0.9470\n",
      "Epoch 1/1\n",
      "1000/1000 [==============================] - 17s 17ms/step - loss: 0.1363 - acc: 0.9590\n",
      "Epoch 1/1\n",
      "1000/1000 [==============================] - 17s 17ms/step - loss: 0.1466 - acc: 0.9590\n"
     ]
    }
   ],
   "source": [
    "#GYM Fine-tuning with intensive preprocessed clean data\n",
    "for i in range(5):\n",
    "    defnewori = defending(new_ori)\n",
    "    model.fit(defnewori*255,hot_lab,epochs=1, batch_size=10)"
   ]
  },
  {
   "cell_type": "code",
   "execution_count": 56,
   "metadata": {},
   "outputs": [
    {
     "name": "stdout",
     "output_type": "stream",
     "text": [
      "200/200 [==============================] - 1s 3ms/step\n",
      "ACC over cleansamples after the intensive defense 0.80499999076128\n"
     ]
    }
   ],
   "source": [
    "#Fine-tuning + Inference (I)\n",
    "_,acc = model.evaluate(defori*255,np.squeeze(np.eye(83)[true_lab]),batch_size=10)\n",
    "print('ACC over cleansamples after the intensive defense',acc)"
   ]
  },
  {
   "cell_type": "code",
   "execution_count": 57,
   "metadata": {},
   "outputs": [
    {
     "name": "stdout",
     "output_type": "stream",
     "text": [
      "200/200 [==============================] - 1s 4ms/step\n",
      "ASR over patched data after the intensive defense 0.015000000223517418\n"
     ]
    }
   ],
   "source": [
    "#Fine-tuning + Inference (I)\n",
    "_,acc = model.evaluate(defdata*255,np.squeeze(np.eye(83)[tar_lab]),batch_size=10)\n",
    "print('ASR over patched data after the intensive defense',acc)"
   ]
  },
  {
   "cell_type": "code",
   "execution_count": 58,
   "metadata": {},
   "outputs": [],
   "source": [
    "def defending2(imgset):\n",
    "    outset = np.zeros_like(imgset)\n",
    "    for i,img in enumerate(imgset):\n",
    "        defimg = np.copy(img)\n",
    "        \n",
    "\n",
    "#         defimg = defend_OD(defimg)\n",
    "#         defimg = defend_GAMMA(defimg)\n",
    "\n",
    "        defimg = defend_MED(defimg)\n",
    "        \n",
    "#         defimg = defend_MPN(defimg)\n",
    "#         defimg = defend_GAMMA2(defimg)\n",
    "\n",
    "#         defimg = defend_DOWN(defimg)        \n",
    "#         defimg = defend_MED(defimg)\n",
    "        \n",
    "        defimg = cv2.resize(defimg,(180,180))\n",
    "        defimg = defend_MED(defimg)\n",
    "        defimg = cv2.resize(defimg,(224,224))\n",
    "\n",
    "#         defimg = defend_RAND(defimg,scalimit=1.1)\n",
    "        defimg = fastSAT(defimg)\n",
    "        \n",
    "        outset[i] = np.copy(defimg)\n",
    "    return outset"
   ]
  },
  {
   "cell_type": "code",
   "execution_count": 59,
   "metadata": {},
   "outputs": [],
   "source": [
    "defdata_L = defending2(data)\n",
    "defori_L = defending2(ori)"
   ]
  },
  {
   "cell_type": "code",
   "execution_count": 60,
   "metadata": {},
   "outputs": [
    {
     "name": "stdout",
     "output_type": "stream",
     "text": [
      "200/200 [==============================] - 1s 4ms/step\n",
      "ACC over cleansamples after the lightweight defense 0.9149999916553497\n"
     ]
    }
   ],
   "source": [
    "#Fine-tuning + Inference (L)\n",
    "_,acc = model.evaluate(defori_L*255,np.squeeze(np.eye(83)[true_lab]),batch_size=10)\n",
    "print('ACC over cleansamples after the lightweight defense',acc)"
   ]
  },
  {
   "cell_type": "code",
   "execution_count": 62,
   "metadata": {},
   "outputs": [
    {
     "name": "stdout",
     "output_type": "stream",
     "text": [
      "200/200 [==============================] - 1s 4ms/step\n",
      "ASR over patched data after the intensive defense 0.010000000149011612\n"
     ]
    }
   ],
   "source": [
    "#Fine-tuning + Inference (L)\n",
    "_,acc = model.evaluate(defdata_L*255,np.squeeze(np.eye(83)[tar_lab]),batch_size=10)\n",
    "print('ASR over patched data after the intensive defense',acc)"
   ]
  },
  {
   "cell_type": "code",
   "execution_count": 63,
   "metadata": {},
   "outputs": [],
   "source": [
    "model.save_weights('./model/fine/backdoor_face_wm.h5')"
   ]
  }
 ],
 "metadata": {
  "kernelspec": {
   "display_name": "Python 3",
   "language": "python",
   "name": "python3"
  },
  "language_info": {
   "codemirror_mode": {
    "name": "ipython",
    "version": 3
   },
   "file_extension": ".py",
   "mimetype": "text/x-python",
   "name": "python",
   "nbconvert_exporter": "python",
   "pygments_lexer": "ipython3",
   "version": "3.7.4"
  }
 },
 "nbformat": 4,
 "nbformat_minor": 2
}
